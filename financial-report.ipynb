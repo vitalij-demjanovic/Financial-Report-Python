{
 "cells": [
  {
   "cell_type": "code",
   "id": "initial_id",
   "metadata": {
    "collapsed": true,
    "ExecuteTime": {
     "end_time": "2024-10-21T19:02:17.266215Z",
     "start_time": "2024-10-21T19:02:17.101920Z"
    }
   },
   "source": [
    "import numpy as np\n",
    "\n",
    "companies = np.loadtxt(\"financial_data.csv\", delimiter=\",\", dtype=str)\n",
    "\n",
    "companies"
   ],
   "outputs": [
    {
     "data": {
      "text/plain": [
       "array([['Company', 'Quarter', 'Revenue', 'Profit', 'Expenses'],\n",
       "       ['Company A', 'Q1', '25795', '6555', '19240'],\n",
       "       ['Company A', 'Q2', '10860', '5385', '5475'],\n",
       "       ['Company A', 'Q3', '48158', '6117', '42041'],\n",
       "       ['Company A', 'Q4', '21284', '8396', '12888'],\n",
       "       ['Company B', 'Q1', '16265', '6843', '9422'],\n",
       "       ['Company B', 'Q2', '26850', '4904', '21946'],\n",
       "       ['Company B', 'Q3', '47194', '9728', '37466'],\n",
       "       ['Company B', 'Q4', '31962', '2474', '29488'],\n",
       "       ['Company C', 'Q1', '26023', '3082', '22941'],\n",
       "       ['Company C', 'Q2', '11685', '4558', '7127'],\n",
       "       ['Company C', 'Q3', '10769', '9849', '920'],\n",
       "       ['Company C', 'Q4', '12433', '4047', '8386'],\n",
       "       ['Company D', 'Q1', '15311', '9643', '5668'],\n",
       "       ['Company D', 'Q2', '47819', '4747', '43072'],\n",
       "       ['Company D', 'Q3', '49188', '2975', '46213'],\n",
       "       ['Company D', 'Q4', '27568', '3806', '23762']], dtype='<U9')"
      ]
     },
     "execution_count": 3,
     "metadata": {},
     "output_type": "execute_result"
    }
   ],
   "execution_count": 3
  },
  {
   "metadata": {
    "ExecuteTime": {
     "end_time": "2024-10-21T19:02:17.283105Z",
     "start_time": "2024-10-21T19:02:17.280591Z"
    }
   },
   "cell_type": "code",
   "source": [
    "quarter = companies[3::3 + 1]\n",
    "\n",
    "quarter"
   ],
   "id": "6ad5e7fc640ef250",
   "outputs": [
    {
     "data": {
      "text/plain": [
       "array([['Company A', 'Q3', '48158', '6117', '42041'],\n",
       "       ['Company B', 'Q3', '47194', '9728', '37466'],\n",
       "       ['Company C', 'Q3', '10769', '9849', '920'],\n",
       "       ['Company D', 'Q3', '49188', '2975', '46213']], dtype='<U9')"
      ]
     },
     "execution_count": 4,
     "metadata": {},
     "output_type": "execute_result"
    }
   ],
   "execution_count": 4
  },
  {
   "metadata": {
    "ExecuteTime": {
     "end_time": "2024-10-21T19:02:17.312861Z",
     "start_time": "2024-10-21T19:02:17.310479Z"
    }
   },
   "cell_type": "code",
   "source": [
    "filter_margin_values = np.array(quarter[:, 2:4])\n",
    "\n",
    "filter_margin_values"
   ],
   "id": "89c88d9e79985dda",
   "outputs": [
    {
     "data": {
      "text/plain": [
       "array([['48158', '6117'],\n",
       "       ['47194', '9728'],\n",
       "       ['10769', '9849'],\n",
       "       ['49188', '2975']], dtype='<U9')"
      ]
     },
     "execution_count": 5,
     "metadata": {},
     "output_type": "execute_result"
    }
   ],
   "execution_count": 5
  },
  {
   "metadata": {
    "ExecuteTime": {
     "end_time": "2024-10-21T19:02:17.332646Z",
     "start_time": "2024-10-21T19:02:17.330091Z"
    }
   },
   "cell_type": "code",
   "source": [
    "profit_margin = filter_margin_values[:, 1].astype(int) / filter_margin_values[:, 0].astype(int)\n",
    "profit_margin.reshape(-1, 1)\n"
   ],
   "id": "26e6428278152210",
   "outputs": [
    {
     "data": {
      "text/plain": [
       "array([[0.12701939],\n",
       "       [0.2061279 ],\n",
       "       [0.9145696 ],\n",
       "       [0.06048223]])"
      ]
     },
     "execution_count": 6,
     "metadata": {},
     "output_type": "execute_result"
    }
   ],
   "execution_count": 6
  },
  {
   "metadata": {
    "ExecuteTime": {
     "end_time": "2024-10-21T19:02:17.468747Z",
     "start_time": "2024-10-21T19:02:17.466112Z"
    }
   },
   "cell_type": "code",
   "source": [
    "filter_expense_values = quarter[:, 4].astype(int) / quarter[:, 2].astype(int)\n",
    "\n",
    "filter_expense_values.reshape(-1, 1)"
   ],
   "id": "58f8ba1c2eaa86ce",
   "outputs": [
    {
     "data": {
      "text/plain": [
       "array([[0.87298061],\n",
       "       [0.7938721 ],\n",
       "       [0.0854304 ],\n",
       "       [0.93951777]])"
      ]
     },
     "execution_count": 7,
     "metadata": {},
     "output_type": "execute_result"
    }
   ],
   "execution_count": 7
  },
  {
   "metadata": {
    "ExecuteTime": {
     "end_time": "2024-10-21T19:02:17.700715Z",
     "start_time": "2024-10-21T19:02:17.698254Z"
    }
   },
   "cell_type": "code",
   "source": [
    "all_profit_margin = companies[1:, 3].astype(int) / companies[1:, 2].astype(int)\n",
    "\n",
    "all_profit_margin.reshape(-1, 1)"
   ],
   "id": "c2900e061324365b",
   "outputs": [
    {
     "data": {
      "text/plain": [
       "array([[0.25411902],\n",
       "       [0.49585635],\n",
       "       [0.12701939],\n",
       "       [0.39447472],\n",
       "       [0.42071934],\n",
       "       [0.18264432],\n",
       "       [0.2061279 ],\n",
       "       [0.07740442],\n",
       "       [0.11843369],\n",
       "       [0.39007274],\n",
       "       [0.9145696 ],\n",
       "       [0.32550471],\n",
       "       [0.62980863],\n",
       "       [0.09927016],\n",
       "       [0.06048223],\n",
       "       [0.13805862]])"
      ]
     },
     "execution_count": 8,
     "metadata": {},
     "output_type": "execute_result"
    }
   ],
   "execution_count": 8
  },
  {
   "metadata": {
    "ExecuteTime": {
     "end_time": "2024-10-21T19:02:17.768690Z",
     "start_time": "2024-10-21T19:02:17.765943Z"
    }
   },
   "cell_type": "code",
   "source": [
    "all_expense_values = companies[1:, 4].astype(int) / companies[1:, 2].astype(int)\n",
    "\n",
    "all_expense_values.reshape(-1, 1)"
   ],
   "id": "632eea739ee9abdb",
   "outputs": [
    {
     "data": {
      "text/plain": [
       "array([[0.74588098],\n",
       "       [0.50414365],\n",
       "       [0.87298061],\n",
       "       [0.60552528],\n",
       "       [0.57928066],\n",
       "       [0.81735568],\n",
       "       [0.7938721 ],\n",
       "       [0.92259558],\n",
       "       [0.88156631],\n",
       "       [0.60992726],\n",
       "       [0.0854304 ],\n",
       "       [0.67449529],\n",
       "       [0.37019137],\n",
       "       [0.90072984],\n",
       "       [0.93951777],\n",
       "       [0.86194138]])"
      ]
     },
     "execution_count": 9,
     "metadata": {},
     "output_type": "execute_result"
    }
   ],
   "execution_count": 9
  },
  {
   "metadata": {
    "ExecuteTime": {
     "end_time": "2024-10-21T19:19:36.919378Z",
     "start_time": "2024-10-21T19:19:36.912138Z"
    }
   },
   "cell_type": "code",
   "source": [
    "revenue_data = np.array(companies[1:, 2].reshape(4, -1), dtype=int)\n",
    "\n",
    "print(revenue_data)"
   ],
   "id": "bbfac2ef95cce937",
   "outputs": [
    {
     "name": "stdout",
     "output_type": "stream",
     "text": [
      "[[25795 10860 48158 21284]\n",
      " [16265 26850 47194 31962]\n",
      " [26023 11685 10769 12433]\n",
      " [15311 47819 49188 27568]]\n"
     ]
    }
   ],
   "execution_count": 37
  },
  {
   "metadata": {
    "ExecuteTime": {
     "end_time": "2024-10-21T19:29:38.849725Z",
     "start_time": "2024-10-21T19:29:38.845330Z"
    }
   },
   "cell_type": "code",
   "source": [
    "growth_rates = ((revenue_data[:, 1:] - revenue_data[:, :-1]) / revenue_data[:, :-1])\n",
    "\n",
    "growth_rates.reshape(-1, 1)"
   ],
   "id": "f9c708b1e3ca2a8c",
   "outputs": [
    {
     "data": {
      "text/plain": [
       "array([[-0.57898818],\n",
       "       [ 3.43443831],\n",
       "       [-0.55803812],\n",
       "       [ 0.65078389],\n",
       "       [ 0.75769088],\n",
       "       [-0.32275289],\n",
       "       [-0.55097414],\n",
       "       [-0.0783911 ],\n",
       "       [ 0.1545176 ],\n",
       "       [ 2.12317941],\n",
       "       [ 0.02862879],\n",
       "       [-0.4395381 ]])"
      ]
     },
     "execution_count": 45,
     "metadata": {},
     "output_type": "execute_result"
    }
   ],
   "execution_count": 45
  },
  {
   "metadata": {},
   "cell_type": "code",
   "outputs": [],
   "execution_count": null,
   "source": "",
   "id": "cf42adfd15d23896"
  }
 ],
 "metadata": {
  "kernelspec": {
   "display_name": "Python 3",
   "language": "python",
   "name": "python3"
  },
  "language_info": {
   "codemirror_mode": {
    "name": "ipython",
    "version": 2
   },
   "file_extension": ".py",
   "mimetype": "text/x-python",
   "name": "python",
   "nbconvert_exporter": "python",
   "pygments_lexer": "ipython2",
   "version": "2.7.6"
  }
 },
 "nbformat": 4,
 "nbformat_minor": 5
}
