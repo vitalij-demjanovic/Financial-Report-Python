{
 "cells": [
  {
   "cell_type": "code",
   "id": "initial_id",
   "metadata": {
    "collapsed": true,
    "ExecuteTime": {
     "end_time": "2024-10-13T12:17:24.145488Z",
     "start_time": "2024-10-13T12:17:24.141730Z"
    }
   },
   "source": [
    "import numpy as np\n",
    "\n",
    "companies = np.loadtxt(\"financial_data.csv\", delimiter=\",\", dtype=str)\n",
    "\n",
    "companies"
   ],
   "outputs": [
    {
     "data": {
      "text/plain": [
       "array([['Company', 'Quarter', 'Revenue', 'Profit', 'Expenses'],\n",
       "       ['Company A', 'Q1', '25795', '6555', '19240'],\n",
       "       ['Company A', 'Q2', '10860', '5385', '5475'],\n",
       "       ['Company A', 'Q3', '48158', '6117', '42041'],\n",
       "       ['Company A', 'Q4', '21284', '8396', '12888'],\n",
       "       ['Company B', 'Q1', '16265', '6843', '9422'],\n",
       "       ['Company B', 'Q2', '26850', '4904', '21946'],\n",
       "       ['Company B', 'Q3', '47194', '9728', '37466'],\n",
       "       ['Company B', 'Q4', '31962', '2474', '29488'],\n",
       "       ['Company C', 'Q1', '26023', '3082', '22941'],\n",
       "       ['Company C', 'Q2', '11685', '4558', '7127'],\n",
       "       ['Company C', 'Q3', '10769', '9849', '920'],\n",
       "       ['Company C', 'Q4', '12433', '4047', '8386'],\n",
       "       ['Company D', 'Q1', '15311', '9643', '5668'],\n",
       "       ['Company D', 'Q2', '47819', '4747', '43072'],\n",
       "       ['Company D', 'Q3', '49188', '2975', '46213'],\n",
       "       ['Company D', 'Q4', '27568', '3806', '23762']], dtype='<U9')"
      ]
     },
     "execution_count": 14,
     "metadata": {},
     "output_type": "execute_result"
    }
   ],
   "execution_count": 14
  },
  {
   "metadata": {
    "ExecuteTime": {
     "end_time": "2024-10-13T12:20:14.571568Z",
     "start_time": "2024-10-13T12:20:14.567669Z"
    }
   },
   "cell_type": "code",
   "source": [
    "quarter = companies[3::3 + 1]\n",
    "\n",
    "quarter"
   ],
   "id": "6ad5e7fc640ef250",
   "outputs": [
    {
     "data": {
      "text/plain": [
       "array([['Company A', 'Q3', '48158', '6117', '42041'],\n",
       "       ['Company B', 'Q3', '47194', '9728', '37466'],\n",
       "       ['Company C', 'Q3', '10769', '9849', '920'],\n",
       "       ['Company D', 'Q3', '49188', '2975', '46213']], dtype='<U9')"
      ]
     },
     "execution_count": 19,
     "metadata": {},
     "output_type": "execute_result"
    }
   ],
   "execution_count": 19
  },
  {
   "metadata": {
    "ExecuteTime": {
     "end_time": "2024-10-13T12:53:16.456503Z",
     "start_time": "2024-10-13T12:53:16.453036Z"
    }
   },
   "cell_type": "code",
   "source": [
    "filter_margin_values = np.array(quarter[:, 2:4])\n",
    "\n",
    "filter_margin_values"
   ],
   "id": "89c88d9e79985dda",
   "outputs": [
    {
     "data": {
      "text/plain": [
       "array([[48158,  6117],\n",
       "       [47194,  9728],\n",
       "       [10769,  9849],\n",
       "       [49188,  2975]])"
      ]
     },
     "execution_count": 62,
     "metadata": {},
     "output_type": "execute_result"
    }
   ],
   "execution_count": 62
  },
  {
   "metadata": {
    "ExecuteTime": {
     "end_time": "2024-10-13T18:38:46.906784Z",
     "start_time": "2024-10-13T18:38:46.903914Z"
    }
   },
   "cell_type": "code",
   "source": [
    "profit_margin = filter_margin_values[:, 1].astype(int) / filter_margin_values[:, 0].astype(int)\n",
    "profit_margin.reshape(-1, 1)\n"
   ],
   "id": "26e6428278152210",
   "outputs": [
    {
     "data": {
      "text/plain": [
       "array([[0.12701939],\n",
       "       [0.2061279 ],\n",
       "       [0.9145696 ],\n",
       "       [0.06048223]])"
      ]
     },
     "execution_count": 77,
     "metadata": {},
     "output_type": "execute_result"
    }
   ],
   "execution_count": 77
  },
  {
   "metadata": {
    "ExecuteTime": {
     "end_time": "2024-10-13T18:42:43.663542Z",
     "start_time": "2024-10-13T18:42:43.658982Z"
    }
   },
   "cell_type": "code",
   "source": [
    "filter_expense_values = quarter[:, 4].astype(int) / quarter[:, 2].astype(int)\n",
    "\n",
    "filter_expense_values.reshape(-1, 1)"
   ],
   "id": "58f8ba1c2eaa86ce",
   "outputs": [
    {
     "data": {
      "text/plain": [
       "array([[0.87298061],\n",
       "       [0.7938721 ],\n",
       "       [0.0854304 ],\n",
       "       [0.93951777]])"
      ]
     },
     "execution_count": 81,
     "metadata": {},
     "output_type": "execute_result"
    }
   ],
   "execution_count": 81
  },
  {
   "metadata": {},
   "cell_type": "code",
   "outputs": [],
   "execution_count": null,
   "source": "",
   "id": "c2900e061324365b"
  }
 ],
 "metadata": {
  "kernelspec": {
   "display_name": "Python 3",
   "language": "python",
   "name": "python3"
  },
  "language_info": {
   "codemirror_mode": {
    "name": "ipython",
    "version": 2
   },
   "file_extension": ".py",
   "mimetype": "text/x-python",
   "name": "python",
   "nbconvert_exporter": "python",
   "pygments_lexer": "ipython2",
   "version": "2.7.6"
  }
 },
 "nbformat": 4,
 "nbformat_minor": 5
}
